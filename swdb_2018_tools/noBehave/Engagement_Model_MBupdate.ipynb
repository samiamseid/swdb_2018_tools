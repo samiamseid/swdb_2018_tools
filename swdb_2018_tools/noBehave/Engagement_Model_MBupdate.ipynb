{
 "cells": [
  {
   "cell_type": "markdown",
   "metadata": {},
   "source": [
    "# Import"
   ]
  },
  {
   "cell_type": "code",
   "execution_count": 1,
   "metadata": {},
   "outputs": [
    {
     "name": "stderr",
     "output_type": "stream",
     "text": [
      "/home/ec2-user/anaconda3/envs/python2/lib/python2.7/site-packages/h5py/__init__.py:36: FutureWarning: Conversion of the second argument of issubdtype from `float` to `np.floating` is deprecated. In future, it will be treated as `np.float64 == np.dtype(float).type`.\n",
      "  from ._conv import register_converters as _register_converters\n"
     ]
    }
   ],
   "source": [
    "import os\n",
    "import numpy as np\n",
    "import pandas as pd\n",
    "#import matplotlib\n",
    "#matplotlib.use('Agg')\n",
    "import matplotlib.pyplot as plt\n",
    "import seaborn as sns\n",
    "sns.set_context('notebook', font_scale=1.5, rc={'lines.markeredgewidth': 2})\n",
    "sns.set_style('white')\n",
    "sns.set_palette('deep');\n",
    "from __future__ import print_function\n",
    "drive_path = '/data/dynamic-brain-workshop/visual_behavior'\n",
    "import attention\n",
    "import Madison_functions_as_functions\n",
    "from visual_behavior.ophys.dataset.visual_behavior_ophys_dataset import VisualBehaviorOphysDataset\n",
    "import visual_behavior.ophys.plotting.summary_figures as sf\n",
    "from visual_behavior.ophys.response_analysis.response_analysis import ResponseAnalysis \n",
    "from sklearn.discriminant_analysis import LinearDiscriminantAnalysis\n",
    "from attention import dataset_pull\n",
    "from sklearn import model_selection\n",
    "from sklearn.neighbors import KNeighborsClassifier\n",
    "\n",
    "manifest_file = 'visual_behavior_data_manifest.csv'\n",
    "manifest = pd.read_csv(os.path.join(drive_path,manifest_file))"
   ]
  },
  {
   "cell_type": "markdown",
   "metadata": {},
   "source": [
    "# Define Experiments of interest"
   ]
  },
  {
   "cell_type": "code",
   "execution_count": 2,
   "metadata": {},
   "outputs": [],
   "source": [
    "# vip = manifest[manifest['cre_line']=='Vip-IRES-Cre']\n",
    "visp = manifest[manifest.targeted_structure == 'VISp']\n",
    "# visal = vip[vip.targeted_structure == 'VISal']\n",
    "# vip_visp_experiments = vip_visp.experiment_id\n",
    "visp_experiments = visp.experiment_id\n",
    "# slc = manifest[manifest['cre_line']=='Slc17a7-IRES2-Cre']"
   ]
  },
  {
   "cell_type": "markdown",
   "metadata": {},
   "source": [
    "# Experiment List"
   ]
  },
  {
   "cell_type": "code",
   "execution_count": 3,
   "metadata": {},
   "outputs": [],
   "source": [
    "experiment_list = manifest['experiment_id']\n",
    "experiment_list = experiment_list.tolist()"
   ]
  },
  {
   "cell_type": "markdown",
   "metadata": {},
   "source": [
    "# Necessary functions "
   ]
  },
  {
   "cell_type": "code",
   "execution_count": 4,
   "metadata": {},
   "outputs": [],
   "source": [
    "def engagement_a(experiment_list,\n",
    "                 smooth = False,\n",
    "                 l0 = False,\n",
    "                 preview = False,\n",
    "                 change_1 = 0.75,\n",
    "                 change_2 = 0.15,\n",
    "                 catch = False,\n",
    "                 pre_change =False,\n",
    "                 all_pre_change = False, \n",
    "                 process = False,\n",
    "                 per_cell = False, \n",
    "                 model = False, \n",
    "                 wide_model = False, \n",
    "                 trials_before_and_after = 1, \n",
    "                 num_successes = 2,\n",
    "                 time = False, \n",
    "                 meta = False, \n",
    "                 one_exp = False, \n",
    "                 one_cell = False, \n",
    "                 pre_process = False, \n",
    "                 drop_last_trial = False):    \n",
    "    \n",
    "    #Experiment List: Requires experiment ids to be analyzed.  Must be a list\n",
    "    #Smooth: If True, the program will return a smoothed trace instead of the raw dF/F\n",
    "    #l0 : If True, the program will return the l0 Events instead of trace\n",
    "    #preview: Used for printing a preview of the time window snips\n",
    "    #change_1/change_2: Used to determine the window around the image change. change_1 is time in seconds before, change_2 is after\n",
    "    #catch:  By default the program will return only Hits and Misses from 'go' trials.  If True, catch trials will be included\n",
    "    #pre_change: If True, the program will pull both the change window, and the window of the last two image presentations\n",
    "    #all_pre_change: If True, the program will only pull pre_change windows for the whole trial, except for the first 3 presentations\n",
    "    #process: If True, the output of the trace/events will be the mean in that window rather than the full snip\n",
    "    #per_cell: If True, returns the trace_array in a format that compares cells over trials.  Best used for one experiment\n",
    "    #model: If True, will return the basic short window binary array corresponding to datapoints\n",
    "    #wide_model: If True, will return the rolling \"graded\" binary window \n",
    "    #trials_before_and_after/num_success: If wide_model = True, these values are used to determine the grading for the engagement window. By default is 2/3\n",
    "    #time: If True, will return the timepoints related to the snips\n",
    "    #meta: If True, will return metadata such as presentation image type\n",
    "    #one_exp: Use to reduce function run time and pull only information from the first experiment in the list\n",
    "    #one_cell: same as one_exp, but only runs one cell\n",
    "    \n",
    "    \n",
    "    \n",
    "    \n",
    "    #pass in a list of experiments and return an arrary of engagement binaries, and two arrays of start/end times\n",
    "    \n",
    "    \n",
    "    #IN DEVELOPMENT\n",
    "    #Optional argument for creating wide binary and wider binary\n",
    "    \n",
    "\n",
    "    eng_binary_array = []\n",
    "    eng_trace_array = []\n",
    "    eng_time_array = []\n",
    "    for experiment in experiment_list:\n",
    "        eng_start_array = []\n",
    "        eng_end_array = []\n",
    "        dataset = dataset_pull(experiment)\n",
    "        trials = dataset.trials\n",
    "        #create dataframe with engagement windows and simple engagement binary\n",
    "        if pre_change == True:\n",
    "            eng_st, eng_end, pre_eng_st, pre_eng_end = eng_window(trials,\n",
    "                                                                  preview = preview,\n",
    "                                                                  change_1 = change_1,\n",
    "                                                                  change_2=change_2,\n",
    "                                                                  catch= catch,\n",
    "                                                                  pre_change= pre_change,\n",
    "                                                                  all_pre_change = all_pre_change, \n",
    "                                                                  meta = meta)\n",
    "        elif meta == True:\n",
    "            pre_eng_st = None\n",
    "            pre_eng_end = None\n",
    "            eng_st, eng_end, change_image_list = eng_window(trials,\n",
    "                                         preview = preview,\n",
    "                                         change_1 = change_1,\n",
    "                                         change_2=change_2,\n",
    "                                         catch= catch,\n",
    "                                         pre_change= pre_change, \n",
    "                                         meta = meta)\n",
    "            \n",
    "            \n",
    "        else:\n",
    "            pre_eng_st = None\n",
    "            pre_eng_end = None\n",
    "            eng_st, eng_end = eng_window(trials,\n",
    "                                         preview = preview,\n",
    "                                         change_1 = change_1,\n",
    "                                         change_2=change_2,\n",
    "                                         catch= catch,\n",
    "                                         pre_change= pre_change, \n",
    "                                         meta = meta, \n",
    "                                         wide_model = wide_model, \n",
    "                                         model = model)\n",
    "            \n",
    "        if model == True:\n",
    "            eng_binary_temp = singletrial_eng_binary(trials,\n",
    "                                                     preview = preview)\n",
    "            \n",
    "        if wide_model == True:\n",
    "            eng_binary_temp = wide_engage_binary(trials, \n",
    "                                                preview = preview, \n",
    "                                                trials_before_and_after = trials_before_and_after, \n",
    "                                                num_successes = num_successes, \n",
    "                                                catch = catch, drop_last_trial = drop_last_trial)\n",
    "            \n",
    "        trace_output, time_output_temp = trace_snip(dataset,\n",
    "                                                    eng_st,\n",
    "                                                    eng_end,\n",
    "                                                    smooth=smooth,\n",
    "                                                    l0=l0,\n",
    "                                                    change_1=change_1,\n",
    "                                                    change_2=change_2,\n",
    "                                                    pre_change = pre_change,\n",
    "                                                    pre_start_list = pre_eng_st,\n",
    "                                                    pre_end_list = pre_eng_end,\n",
    "                                                    all_pre_change = all_pre_change, \n",
    "                                                    process = process,\n",
    "                                                    per_cell = per_cell, \n",
    "                                                    one_cell = one_cell, \n",
    "                                                    pre_process = pre_process, \n",
    "                                                    drop_last_trial = drop_last_trial)\n",
    "        \n",
    "        \n",
    "        eng_trace_array.append(trace_output)\n",
    "        eng_time_array.append(time_output_temp)\n",
    "        \n",
    "        if ((per_cell == False)&((model==True)|(wide_model==True))):\n",
    "            for cells in range(len(dataset.cell_specimen_ids)):\n",
    "                eng_binary_array.extend(eng_binary_temp)\n",
    "        elif ((model == True)|(wide_model==True)):\n",
    "            eng_binary_array.extend(eng_binary_temp)\n",
    "        if one_exp == True:\n",
    "            break\n",
    "    if ((model == True)|(wide_model==True)):           \n",
    "        eng_binary_array = np.array(eng_binary_array)\n",
    "        \n",
    "#INTERPRETING OF TRACE_OUTPUT\n",
    "#The first level of the array is the index of the experiment in the list of experiments\n",
    "#The second level of the array is the cell index from that experiment, and every trial\n",
    "#The third level of the array is the trace\n",
    "\n",
    "#IF PRE_CHANGE is TRUE\n",
    "#The order of the trace list will be: evens are pre change, odds are post change\n",
    "\n",
    "    trace_output = np.array(eng_trace_array)\n",
    "    time_output = np.array(eng_time_array)\n",
    "    if ((model == False)&(time==True)):\n",
    "        return(trace_output, time_output)\n",
    "    if (((model == True)|(wide_model == True))&(time==False)):\n",
    "        return(trace_output, eng_binary_array)\n",
    "    if ((model == False)&(time == False)&(meta == False)):\n",
    "        return(trace_output)\n",
    "    if meta == True:\n",
    "        return(trace_output, change_image_list)\n",
    "    return(eng_binary_array, trace_output, time_output)"
   ]
  },
  {
   "cell_type": "code",
   "execution_count": 5,
   "metadata": {},
   "outputs": [],
   "source": [
    "def eng_window(trials,\n",
    "               catch=False,\n",
    "               preview = False,\n",
    "               change_1 = 0.75,\n",
    "               change_2 = 0.15,\n",
    "               pre_change = False,\n",
    "               all_pre_change = False, \n",
    "               meta = False, \n",
    "               wide_model=False, \n",
    "               model = False):\n",
    "    eng_st = []\n",
    "    eng_end = []\n",
    "    change_image_list = []\n",
    "    if pre_change == True:\n",
    "        pre_eng_st = []\n",
    "        pre_eng_end = []\n",
    "        \n",
    "    for i in range(len(trials.trial)):\n",
    "        if ((wide_model == True)|(model == True)):\n",
    "            last_initial_image =(trials.change_time[i] - change_1)\n",
    "            eng_st.append(last_initial_image)\n",
    "            resp_window_start = (trials.change_time[i] + change_2)\n",
    "            eng_end.append(resp_window_start)\n",
    "        \n",
    "        elif catch == False:\n",
    "            if trials.trial_type[i] == 'go':\n",
    "                last_initial_image =(trials.change_time[i] - change_1)\n",
    "                eng_st.append(last_initial_image)\n",
    "                resp_window_start = (trials.change_time[i] + change_2)\n",
    "                eng_end.append(resp_window_start) \n",
    "                if pre_change ==True:\n",
    "                        pre_last_initial_image =(last_initial_image - 0.75)\n",
    "                        pre_eng_st.append(pre_last_initial_image)\n",
    "                        pre_resp_window_start = (resp_window_start - 0.75)\n",
    "                        pre_eng_end.append(pre_resp_window_start)\n",
    "\n",
    "                        if all_pre_change == True:\n",
    "                            trial_length =  trials.trial_length[i]\n",
    "                            repeats = int(trial_length / 0.75)\n",
    "                            way_back = 1\n",
    "                            while repeats > 3:\n",
    "                                pre_last_initial_image =(last_initial_image - (0.75+way_back))\n",
    "                                pre_eng_st.append(pre_last_initial_image)\n",
    "                                pre_resp_window_start = (resp_window_start - (0.75+way_back))\n",
    "                                pre_eng_end.append(pre_resp_window_start)\n",
    "                                repeats -=1\n",
    "                                way_back += 1\n",
    "            elif ((trials.trial_type[i] == 'catch') and (trials.response_type[i] == 'CR')):\n",
    "                success= True   \n",
    "                if meta == True:\n",
    "                    change_image = trials.change_image_name[i]\n",
    "                    change_image_list.append(change_image)\n",
    "        if catch== True:\n",
    "            last_initial_image =(trials.change_time[i] - change_1)\n",
    "            eng_st.append(last_initial_image)\n",
    "            resp_window_start = (trials.change_time[i] + change_2)\n",
    "            eng_end.append(resp_window_start) \n",
    "    \n",
    "    if preview == True:\n",
    "        \n",
    "        print(\"preview: \", eng_st[:3], eng_end[:3], \"length is: \", len(eng_st))\n",
    "    if pre_change == True:\n",
    "        return(eng_st, eng_end, pre_eng_st, pre_eng_end)\n",
    "    if meta == True:\n",
    "        return(eng_st, eng_end, change_image_list)\n",
    "    else:\n",
    "        return(eng_st, eng_end)"
   ]
  },
  {
   "cell_type": "code",
   "execution_count": 6,
   "metadata": {},
   "outputs": [],
   "source": [
    "def wide_engage_binary(trials,\n",
    "                       trials_before_and_after=1,\n",
    "                       num_successes=2,\n",
    "                       preview = False,\n",
    "                       catch = False, \n",
    "                       wide_engage_binary = False, \n",
    "                       drop_last_trial = False):\n",
    "    \n",
    "    success_list = []\n",
    "\n",
    "    #create column in dataframe: success\n",
    "    for i in range(len(trials.trial)):\n",
    "        if ((trials.trial_type[i] == 'go') and (trials.response_type[i] == 'HIT')):\n",
    "            #create success column\n",
    "            success = True\n",
    "            \n",
    "        elif catch == True:\n",
    "            if ((trials.trial_type[i] == 'catch') and (trials.response_type[i] == 'CR')):\n",
    "                success= True\n",
    "        else:\n",
    "            success = False\n",
    "\n",
    "        success_list.append(success)\n",
    "    trials['success'] = success_list\n",
    "    \n",
    "    width= trials_before_and_after\n",
    "    wide_engage_binary = []\n",
    "\n",
    "    for i in range(len(trials.trial)):\n",
    "        #want to look at window from one trial before to one trial after. unless first of last trial, then there isnt a before or after trial respectively\n",
    "        if i <= width:\n",
    "            pre = 0\n",
    "            post = (i+width)\n",
    "        elif i + width >= len(trials.trial):\n",
    "            pre= (i-width)\n",
    "            post= len(trials.trial)\n",
    "        else:\n",
    "            pre= (i-width)\n",
    "            post= (i+width)\n",
    "        trialwindow = (trials[pre:(post+1)])#-1 because non-inclusive\n",
    "        successonly_list = trialwindow.success[trialwindow.success == True]\n",
    "        if len(successonly_list) >= num_successes:\n",
    "            performing_task = 1\n",
    "        else:\n",
    "            performing_task = 0\n",
    "        wide_engage_binary.append(performing_task)  \n",
    "    #adds wide eng binary as a column in dataset\n",
    "    trials[\"wide_engage_binary\"]= wide_engage_binary\n",
    "    if drop_last_trial == True:\n",
    "        wide_engage_binary = wide_engage_binary[:-1]\n",
    "    #prints 4 columns to check your work\n",
    "    if preview == True:\n",
    "        \n",
    "        print(trials[['trial_type','response_type','success', 'wide_engage_binary']])\n",
    "    return(wide_engage_binary)"
   ]
  },
  {
   "cell_type": "code",
   "execution_count": 7,
   "metadata": {},
   "outputs": [
    {
     "data": {
      "text/plain": [
       "[1, 3, 5, 3, 6, 2, 9, 11]"
      ]
     },
     "execution_count": 7,
     "metadata": {},
     "output_type": "execute_result"
    }
   ],
   "source": [
    "lister = [1,3,5,3,6,2,9,11,122]\n",
    "lister = lister[0:-1]\n",
    "lister"
   ]
  },
  {
   "cell_type": "code",
   "execution_count": 25,
   "metadata": {},
   "outputs": [],
   "source": [
    "def trace_snip(experiment,\n",
    "               start_list,\n",
    "               end_list,\n",
    "               smooth = False,\n",
    "               l0 = False,\n",
    "               window_limit = 45,\n",
    "               change_1 = 0.75,\n",
    "               change_2 = 0.15,\n",
    "               pre_change = False,\n",
    "               pre_start_list = None,\n",
    "               pre_end_list = None,\n",
    "               all_pre_change = False,\n",
    "               process = False, \n",
    "               per_cell = False, \n",
    "               one_cell = False, \n",
    "               pre_process=False, \n",
    "               drop_last_trial = False):\n",
    "    #Inputs dataframe, start times and stop times.  Outputs snips of neuron activity between the specified times\n",
    "    #Experiment should be a VisualBehaviorOphysDataset object\n",
    "    #Start should be a list of start times\n",
    "    #End should be a list of end times\n",
    "    frames = int((change_1 +change_2) * 30)\n",
    "    trace_list = []\n",
    "    time_list = []\n",
    "    \n",
    "    if drop_last_trial == True:\n",
    "        start_list = start_list[:-1]\n",
    "        end_list = end_list[:-1]\n",
    "    \n",
    "    if len(start_list) != len(end_list):\n",
    "        return('List of start and end times do not match')\n",
    "\n",
    "    if ((l0 == True)&(smooth ==True)):\n",
    "        return('I dont want to smooth an L0!')\n",
    "\n",
    "    if l0 == True:\n",
    "        exp_id = experiment.experiment_id\n",
    "        l0 = '/data/dynamic-brain-workshop/visual_behavior_events/%s_events.npz' % exp_id\n",
    "        trace = np.load(l0)['ev']\n",
    "        time = experiment.timestamps_ophys\n",
    "\n",
    "    else:\n",
    "        trace = experiment.dff_traces\n",
    "        time = experiment.timestamps_ophys\n",
    "\n",
    "    for cell in trace:\n",
    "        trace_list_temp = []\n",
    "        if smooth == True:\n",
    "            box = np.ones(10)/10\n",
    "            cell = np.convolve(cell, box, 'same')\n",
    "            \n",
    "        if all_pre_change == False:    \n",
    "            for j, start_time in enumerate(start_list):\n",
    "                if pre_change == True:\n",
    "                    pre_start_time = pre_start_list[j]\n",
    "                    pre_end_time = pre_end_list[j]\n",
    "                    domain_indices = np.where(np.logical_and(time >=pre_start_time, time < pre_end_time))\n",
    "                    current_trace = cell[domain_indices]\n",
    "                    current_times = time[domain_indices]\n",
    "                    trace_list_temp.append(current_trace[:frames])\n",
    "                    time_list.append(current_times)\n",
    "\n",
    "                start_time = start_list[j]\n",
    "                end_time = end_list[j]\n",
    "                domain_indices = np.where(np.logical_and(time >=start_time, time < end_time))\n",
    "                current_trace = cell[domain_indices]\n",
    "                current_times = time[domain_indices]\n",
    "                if process == True:\n",
    "                    current_trace=current_trace.mean()\n",
    "                    trace_list_temp.append(current_trace)\n",
    "                else:\n",
    "                    trace_list_temp.append(current_trace[:frames])\n",
    "                time_list.append(current_times)\n",
    "                \n",
    "            if per_cell == True:\n",
    "                if pre_process == True:\n",
    "                    trace_mean = np.mean(trace_list_temp)\n",
    "                    trace_list.append(trace_mean)\n",
    "                else:\n",
    "                    trace_list.append(trace_list_temp)\n",
    "            else:\n",
    "                trace_list.extend(trace_list_temp)\n",
    "            \n",
    "        if all_pre_change == True:\n",
    "            for j, pre_start_time in enumerate(pre_start_list):\n",
    "                pre_start_time = pre_start_list[j]\n",
    "                pre_end_time = pre_end_list[j]\n",
    "                domain_indices = np.where(np.logical_and(time >=pre_start_time, time < pre_end_time))\n",
    "                current_trace = cell[domain_indices]\n",
    "                current_times = time[domain_indices]\n",
    "                trace_list_temp.extend(current_trace[:frames])\n",
    "                time_list.append(current_times)\n",
    "            trace_list.append(trace_list_temp)\n",
    "        if one_cell == True:\n",
    "            break\n",
    "        \n",
    "    return(trace_list, time_list)"
   ]
  },
  {
   "cell_type": "code",
   "execution_count": 9,
   "metadata": {},
   "outputs": [],
   "source": [
    "def speed_and_deceleration(experiment_id):\n",
    "    dataset= VisualBehaviorOphysDataset(experiment_id, cache_dir=drive_path)\n",
    "    df_trials = dataset.trials.copy()\n",
    "    df_dummy = df_trials.copy()\n",
    "    #grab speed at the change\n",
    "    speed_at_change = []\n",
    "    time_at_change = df_trials['change_time']\n",
    "    for i in range (len(time_at_change)):\n",
    "        running_time = dataset.running_speed['time'].values\n",
    "        mask = dataset.running_speed['time'] == time_at_change[i]\n",
    "        dummy_value = np.argwhere(mask)[0,0]\n",
    "        speed_value = dataset.running_speed['running_speed'].iloc[dummy_value]\n",
    "        speed_at_change.append(speed_value)\n",
    "        \n",
    "    #grab deceleration after  \n",
    "    speed_at_end = []\n",
    "    time_at_end = df_trials['change_time']+0.9\n",
    "    for i in range (len(time_at_end)):\n",
    "        running_time = dataset.running_speed['time'].values\n",
    "        mask = (running_time > time_at_end[i])\n",
    "        locations = np.argwhere(mask)\n",
    "        if locations.size > 0:\n",
    "            dummy_value = locations[0,0]\n",
    "            speed_value = dataset.running_speed['running_speed'].iloc[dummy_value]\n",
    "            speed_at_end.append(speed_value)\n",
    "        else:\n",
    "            break\n",
    "    deceleration =(np.array(speed_at_end) - np.array(speed_at_change))/0.9\n",
    "    a = deceleration.tolist()\n",
    "    a = a[:-1]\n",
    "#     print (type(a))\n",
    "#     behavior_array = np.stack((speed_at_change,a), axis = 1)\n",
    "    return (a)\n",
    "        \n",
    "\n",
    "    "
   ]
  },
  {
   "cell_type": "markdown",
   "metadata": {},
   "source": [
    "# Set boolean variables"
   ]
  },
  {
   "cell_type": "code",
   "execution_count": 10,
   "metadata": {},
   "outputs": [],
   "source": [
    "visp_experiments= [644942849]"
   ]
  },
  {
   "cell_type": "code",
   "execution_count": 11,
   "metadata": {},
   "outputs": [],
   "source": [
    "dff_trace_array, model = engagement_a(visp_experiments,\n",
    "                                        change_2 = 0.25,\n",
    "                                        process = True, \n",
    "                                        l0 = False, \n",
    "                                        one_cell =False, \n",
    "                                        one_exp = True, \n",
    "                                        per_cell = True, \n",
    "                                        wide_model = True, \n",
    "                                        pre_process= False, \n",
    "                                        pre_change = False,\n",
    "                                        all_pre_change = False, \n",
    "                                        drop_last_trial = True)"
   ]
  },
  {
   "cell_type": "code",
   "execution_count": 12,
   "metadata": {},
   "outputs": [
    {
     "name": "stdout",
     "output_type": "stream",
     "text": [
      "[[ 0.29229635  0.07282002  0.05046333 ...  0.16692983  0.02314059\n",
      "   0.00566277]\n",
      " [ 0.74329433  0.0225477   0.02953818 ...  0.03217177 -0.00623878\n",
      "   0.02197016]\n",
      " [ 0.87474431  0.53490738  0.02717274 ...  0.02386068 -0.0156205\n",
      "   0.01195861]\n",
      " ...\n",
      " [ 0.24365467 -0.01537548  0.25699214 ...  0.54842436  0.97991965\n",
      "   0.08339244]\n",
      " [ 0.26116867  0.15251892 -0.00863547 ...  0.20679008  0.01887664\n",
      "  -0.01163727]\n",
      " [ 0.15075212  0.22539018  0.08219568 ...  0.96728123  0.06161354\n",
      "  -0.11677404]]\n"
     ]
    }
   ],
   "source": [
    "print(dff_trace_array[0])"
   ]
  },
  {
   "cell_type": "code",
   "execution_count": 13,
   "metadata": {},
   "outputs": [
    {
     "name": "stdout",
     "output_type": "stream",
     "text": [
      "(1, 12, 327)\n",
      "(327,)\n"
     ]
    }
   ],
   "source": [
    "print(dff_trace_array.shape)\n",
    "print(model.shape)"
   ]
  },
  {
   "cell_type": "markdown",
   "metadata": {},
   "source": [
    "## Deceleration feature"
   ]
  },
  {
   "cell_type": "code",
   "execution_count": 14,
   "metadata": {},
   "outputs": [
    {
     "data": {
      "text/plain": [
       "327"
      ]
     },
     "execution_count": 14,
     "metadata": {},
     "output_type": "execute_result"
    }
   ],
   "source": [
    "deceleration = speed_and_deceleration(experiment_list[0])\n",
    "len(deceleration)"
   ]
  },
  {
   "cell_type": "markdown",
   "metadata": {},
   "source": [
    "### sanity check the shape"
   ]
  },
  {
   "cell_type": "code",
   "execution_count": 15,
   "metadata": {},
   "outputs": [
    {
     "name": "stdout",
     "output_type": "stream",
     "text": [
      "(327,)\n",
      "(1, 12, 327)\n"
     ]
    }
   ],
   "source": [
    "print(model.shape)\n",
    "print(dff_trace_array.shape)\n",
    "#print(len(dff_trace_array))\n",
    "#print(time_array.shape)"
   ]
  },
  {
   "cell_type": "code",
   "execution_count": 16,
   "metadata": {},
   "outputs": [],
   "source": [
    "#madison"
   ]
  },
  {
   "cell_type": "code",
   "execution_count": 17,
   "metadata": {},
   "outputs": [],
   "source": [
    "def response_atchange(experiment_id):\n",
    "    #gives mean response to change, baseline response before change, and the differnce\n",
    "    from visual_behavior.ophys.dataset.visual_behavior_ophys_dataset import VisualBehaviorOphysDataset\n",
    "    dataset = VisualBehaviorOphysDataset(str(experiment_id), cache_dir=drive_path)\n",
    "    trials=dataset.trials\n",
    "    from visual_behavior.ophys.response_analysis.response_analysis import ResponseAnalysis \n",
    "    analysis = ResponseAnalysis(dataset)\n",
    "    trial_response_df = analysis.get_trial_response_df()\n",
    "    \n",
    "    LDA_popu= trial_response_df[['trial', 'cell', 'trial_type', 'mean_response', 'baseline_response']].copy()\n",
    "    delta_response = (LDA_popu['mean_response'])-(LDA_popu['baseline_response'])\n",
    "    LDA_popu['delta_response']=delta_response\n",
    "    LDA_trial_mean= LDA_popu.groupby('trial').mean()\n",
    "    \n",
    "    binary= wide_engage_binary(trials,catch=True)\n",
    "    ar_binary= np.asarray(binary)\n",
    "    ar_binary_short= ar_binary[:-1]\n",
    "    LDA_trial_mean['eng_binary']=ar_binary_short\n",
    "    \n",
    "    #create a df splice then .values to get array\n",
    "    X_df=LDA_trial_mean[['mean_response', 'baseline_response', 'delta_response']].copy()\n",
    "    \n",
    "    mean_response = X_df.mean_response.values\n",
    "    baseline_response = X_df.baseline_response.values\n",
    "    #delta_response = deltaX_df.delta_response.values\n",
    "    \n",
    "    y_response= LDA_trial_mean.eng_binary.values\n",
    "    return (mean_response, baseline_response, delta_response)\n",
    "    "
   ]
  },
  {
   "cell_type": "code",
   "execution_count": 18,
   "metadata": {},
   "outputs": [
    {
     "name": "stdout",
     "output_type": "stream",
     "text": [
      "loading trial response dataframe\n",
      "loading flash response dataframe\n",
      "loading trial response dataframe\n"
     ]
    }
   ],
   "source": [
    "mean_response, baseline_response, delta_response  = response_atchange(experiment_list[0])"
   ]
  },
  {
   "cell_type": "code",
   "execution_count": null,
   "metadata": {},
   "outputs": [],
   "source": []
  },
  {
   "cell_type": "markdown",
   "metadata": {},
   "source": [
    "# Define X and y"
   ]
  },
  {
   "cell_type": "code",
   "execution_count": 19,
   "metadata": {},
   "outputs": [
    {
     "name": "stdout",
     "output_type": "stream",
     "text": [
      "(327, 13)\n"
     ]
    }
   ],
   "source": [
    "X = dff_trace_array[0]\n",
    "X= X.T\n",
    "features = pd.DataFrame(X)\n",
    "\n",
    "\n",
    "features['deceleration']=deceleration\n",
    "new_array = features.as_matrix()\n",
    "\n",
    "#here shorten by 1 trial/experiment\n",
    "\n",
    "#features['mean_response'], features['baseline_response'], features['delta_response']= [mean_response, baseline_response, delta_response]\n",
    "#features.head()\n",
    "\n",
    "print(new_array.shape)\n",
    "X = new_array\n",
    "y = model\n"
   ]
  },
  {
   "cell_type": "code",
   "execution_count": null,
   "metadata": {},
   "outputs": [],
   "source": []
  },
  {
   "cell_type": "code",
   "execution_count": null,
   "metadata": {},
   "outputs": [],
   "source": []
  },
  {
   "cell_type": "code",
   "execution_count": null,
   "metadata": {},
   "outputs": [],
   "source": []
  },
  {
   "cell_type": "markdown",
   "metadata": {},
   "source": [
    "# Training"
   ]
  },
  {
   "cell_type": "code",
   "execution_count": 20,
   "metadata": {},
   "outputs": [
    {
     "name": "stdout",
     "output_type": "stream",
     "text": [
      "(261, 13)\n",
      "(261,)\n"
     ]
    }
   ],
   "source": [
    "[X_train,X_test,y_train,y_test] = model_selection.train_test_split(X,y,test_size=0.2)\n",
    "\n",
    "print(np.shape(X_train))\n",
    "print(np.shape(y_train))"
   ]
  },
  {
   "cell_type": "markdown",
   "metadata": {},
   "source": [
    "# LDA"
   ]
  },
  {
   "cell_type": "code",
   "execution_count": 21,
   "metadata": {},
   "outputs": [],
   "source": [
    "classifier = LinearDiscriminantAnalysis()\n",
    "classifier.fit(X_train,y_train)\n",
    "y_hat = classifier.predict(X_test)"
   ]
  },
  {
   "cell_type": "code",
   "execution_count": 22,
   "metadata": {},
   "outputs": [
    {
     "name": "stdout",
     "output_type": "stream",
     "text": [
      "[0.70909091 0.82568807 0.72222222]\n",
      "[0.90322581 0.83027523 0.88127854]\n"
     ]
    },
    {
     "name": "stderr",
     "output_type": "stream",
     "text": [
      "/home/ec2-user/anaconda3/envs/python2/lib/python2.7/site-packages/sklearn/utils/deprecation.py:122: FutureWarning: You are accessing a training score ('train_score'), which will not be available by default any more in 0.21. If you need training scores, please set return_train_score=True\n",
      "  warnings.warn(*warn_args, **warn_kwargs)\n"
     ]
    }
   ],
   "source": [
    "scores = model_selection.cross_validate(classifier,X,y)\n",
    "print(scores['test_score'])\n",
    "print(scores['train_score'])\n",
    "test_std = np.std(scores['test_score'])\n",
    "train_std = np.std(scores['train_score'])\n",
    "error = [test_std, train_std]"
   ]
  },
  {
   "cell_type": "markdown",
   "metadata": {},
   "source": [
    "# K_Neighbors"
   ]
  },
  {
   "cell_type": "code",
   "execution_count": 23,
   "metadata": {},
   "outputs": [
    {
     "name": "stdout",
     "output_type": "stream",
     "text": [
      "[0.80909091 0.82568807 0.72222222]\n",
      "[0.85253456 0.83027523 0.89497717]\n"
     ]
    }
   ],
   "source": [
    "classifier_k = KNeighborsClassifier()\n",
    "classifier_k.fit(X_train, y_train)\n",
    "y_hat_k = classifier.predict(X_test)\n",
    "scores_k = model_selection.cross_validate(classifier_k,X,y)\n",
    "ktest_std = np.std(scores_k['test_score'])\n",
    "ktrain_std = np.std(scores_k['train_score'])\n",
    "print(scores_k['test_score'])\n",
    "print(scores_k['train_score'])\n",
    "k_error = [ktest_std, ktrain_std]"
   ]
  },
  {
   "cell_type": "markdown",
   "metadata": {},
   "source": [
    "# Comparison Graphs"
   ]
  },
  {
   "cell_type": "code",
   "execution_count": 24,
   "metadata": {},
   "outputs": [
    {
     "data": {
      "image/png": "[encoded data removed]",
      "text/plain": [
       "<Figure size 576x288 with 2 Axes>"
      ]
     },
     "metadata": {},
     "output_type": "display_data"
    }
   ],
   "source": [
    "scores_k = model_selection.cross_validate(classifier_k,X,y)\n",
    "# test = scores['test_score']\n",
    "# test = test.tolist()\n",
    "# train = scores['train_score']\n",
    "# train = train.tolist()\n",
    "# test.extend(train)\n",
    "\n",
    "# test1 =['test', 'test', 'test', 'train','train', 'train']\n",
    "# empty_df = pd.DataFrame()\n",
    "# empty_df['category'] = test1\n",
    "# empty_df['value'] = test\n",
    "# empty_df\n",
    "# sns.barplot(empty_df)\n",
    "# #empty_df\n",
    "\n",
    "fig, (ax1, ax2) = plt.subplots(1,2,figsize = (8, 4),sharey = True)\n",
    "#ax1 = plt.subplot(111)\n",
    "ax1.bar([0,1],[np.mean(scores_k['train_score']),np.mean(scores_k['test_score'])],color='b')\n",
    "ax1.set_xticks([0,1])\n",
    "ax1.set_xticklabels(['Train','Test'],fontsize=16)\n",
    "ax1.set_ylabel('Fraction Correct',fontsize=16)\n",
    "ax1.set_title('KNeighbors')\n",
    "fig.suptitle('Wide Model\\nL0: + Running\\n'+str(experiment_list[0]), y = 1.2)\n",
    "ax2.bar([0,1], [np.mean(scores['train_score']),np.mean(scores['test_score'])],color='g')\n",
    "ax2.set_xticks([0,1])\n",
    "ax2.set_xticklabels(['Train','Test'],fontsize=16)\n",
    "ax2.set_ylabel('')\n",
    "ax2.set_title('LDA')\n",
    "#fig.tight_layout(rect=[0, 0.03, 1, 0.95])\n",
    "plt.show()\n"
   ]
  },
  {
   "cell_type": "code",
   "execution_count": null,
   "metadata": {},
   "outputs": [],
   "source": []
  },
  {
   "cell_type": "code",
   "execution_count": null,
   "metadata": {},
   "outputs": [],
   "source": []
  },
  {
   "cell_type": "code",
   "execution_count": null,
   "metadata": {},
   "outputs": [],
   "source": []
  },
  {
   "cell_type": "code",
   "execution_count": null,
   "metadata": {},
   "outputs": [],
   "source": []
  }
 ],
 "metadata": {
  "kernelspec": {
   "display_name": "conda_python2",
   "language": "python",
   "name": "conda_python2"
  },
  "language_info": {
   "codemirror_mode": {
    "name": "ipython",
    "version": 2
   },
   "file_extension": ".py",
   "mimetype": "text/x-python",
   "name": "python",
   "nbconvert_exporter": "python",
   "pygments_lexer": "ipython2",
   "version": "2.7.15"
  }
 },
 "nbformat": 4,
 "nbformat_minor": 2
}
